{
 "cells": [
  {
   "cell_type": "markdown",
   "id": "fad88eb6-a5e5-49ea-9189-0ea0fdaba491",
   "metadata": {},
   "source": [
    "# BIOINF 575 Project 1\n",
    "_______\n",
    "## Parts 1-3"
   ]
  },
  {
   "cell_type": "code",
   "execution_count": 1,
   "id": "29e75e28-ec87-4d28-9d65-a5d26351ce06",
   "metadata": {
    "tags": []
   },
   "outputs": [],
   "source": [
    "#set up sql stuff\n",
    "from sqlite3 import connect\n",
    "import pandas as pd \n",
    "\n",
    "connection = connect(\"project_b575.sqlite\")\n",
    "cursor = connection.cursor()\n",
    "\n",
    "def display_results(cursor):\n",
    "    data = cursor.fetchall()\n",
    "    header = [t[0] for t in cursor.description]\n",
    "    res_df = pd.DataFrame(data, columns = header)\n",
    "    return res_df"
   ]
  },
  {
   "cell_type": "code",
   "execution_count": 2,
   "id": "d5e94359-a78e-44d4-a330-be47d975521b",
   "metadata": {
    "tags": []
   },
   "outputs": [
    {
     "data": {
      "text/plain": [
       "<sqlite3.Cursor at 0x12263b340>"
      ]
     },
     "execution_count": 2,
     "metadata": {},
     "output_type": "execute_result"
    }
   ],
   "source": [
    "#create a table for the 23andMe data\n",
    "create_23andme = '''\n",
    "CREATE TABLE IF NOT EXISTS df_23andme (\n",
    "    variant_id INTERGER PRIMARY KEY,\n",
    "    chr TEXT,\n",
    "    position INTERGER,\n",
    "    dbSNP_ID TEXT,\n",
    "    allele_23andme TEXT,\n",
    "    FOREIGN KEY (dbSNP_ID) REFERENCES pharmGKB (variant)\n",
    ")\n",
    "'''\n",
    "\n",
    "cursor.execute(create_23andme)"
   ]
  },
  {
   "cell_type": "code",
   "execution_count": 3,
   "id": "53a1e5e1-04d5-4c52-bc94-f7ac010afecd",
   "metadata": {
    "tags": []
   },
   "outputs": [
    {
     "data": {
      "text/plain": [
       "<sqlite3.Cursor at 0x12263b340>"
      ]
     },
     "execution_count": 3,
     "metadata": {},
     "output_type": "execute_result"
    }
   ],
   "source": [
    "#create a table for the PharmGKB data\n",
    "create_pharmGKB = '''\n",
    "CREATE TABLE IF NOT EXISTS pharmGKB (\n",
    "    row_id INTERGER PRIMARY KEY,\n",
    "    var_ann_id INTERGER,\n",
    "    variant TEXT,\n",
    "    gene_sym TEXT,\n",
    "    drug TEXT,\n",
    "    PMID TEXT,\n",
    "    phenotype_cat TEXT,\n",
    "    significance TEXT,\n",
    "    notes TEXT,\n",
    "    sentence TEXT,\n",
    "    allele_pharmGKB TEXT\n",
    ")\n",
    "'''\n",
    "cursor.execute(create_pharmGKB)"
   ]
  },
  {
   "cell_type": "code",
   "execution_count": 4,
   "id": "2b13b92d-5667-4b98-bef7-556d8962f5a8",
   "metadata": {
    "tags": []
   },
   "outputs": [
    {
     "data": {
      "text/plain": [
       "<sqlite3.Cursor at 0x12263b340>"
      ]
     },
     "execution_count": 4,
     "metadata": {},
     "output_type": "execute_result"
    }
   ],
   "source": [
    "#create index \n",
    "create_idx = '''\n",
    "CREATE INDEX SNP_idx\n",
    "ON pharmGKB (variant)\n",
    "'''\n",
    "cursor.execute(create_idx)"
   ]
  },
  {
   "cell_type": "code",
   "execution_count": 5,
   "id": "35d3f31c-6a43-49a6-bfb1-d50ddab206a2",
   "metadata": {
    "tags": []
   },
   "outputs": [],
   "source": [
    "#add the 23andMe data to the table\n",
    "insert_variants = '''\n",
    "INSERT INTO df_23andme\n",
    "VALUES (?, ?, ?, ?, ?)\n",
    "'''\n",
    "\n",
    "variant_id = 0 \n",
    "with open('23andme_v5_hg19_ref.txt') as variant_file:\n",
    "    for line in variant_file:\n",
    "        variant_id = variant_id + 1\n",
    "        line_list = line.strip().split('\\t')\n",
    "        chromosome = line_list[0]\n",
    "        position = int(line_list[1])\n",
    "        SNP = line_list[2]\n",
    "        allele = line_list[3]\n",
    "        \n",
    "        variant_row = [variant_id, chromosome, position, SNP, allele]\n",
    "        cursor.execute(insert_variants, variant_row)"
   ]
  },
  {
   "cell_type": "code",
   "execution_count": 6,
   "id": "edf70a16-5428-42d2-9b5a-3ae557c98d66",
   "metadata": {
    "tags": []
   },
   "outputs": [],
   "source": [
    "#add the PharmGKB data to the table\n",
    "insert_pharmGKB = '''\n",
    "INSERT INTO pharmGKB\n",
    "VALUES (?, ?, ?, ?, ?, ?, ?, ?, ?, ?, ?)\n",
    "'''\n",
    "\n",
    "row_id = 0 \n",
    "with open('var_drug_ann.tsv') as drug_file:\n",
    "    header_line = drug_file.readline()\n",
    "    for line in drug_file: \n",
    "        row_id = row_id + 1\n",
    "        if row_id == 5487:\n",
    "            continue\n",
    "        line_list = line.strip().split('\\t')\n",
    "        var_ann_id = int(line_list[0])\n",
    "        variant = line_list[1]\n",
    "        gene_sym = line_list[2]\n",
    "        drug = line_list[3]\n",
    "        pmid = line_list[4]\n",
    "        phenotype_cat = line_list[5]\n",
    "        significance = line_list[6]\n",
    "        notes = line_list[7]\n",
    "        sentence = line_list[8]\n",
    "        allele = line_list[9]\n",
    "        \n",
    "        drug_row = [row_id, var_ann_id, variant, gene_sym, drug, pmid, phenotype_cat, significance, notes, sentence, allele]\n",
    "        cursor.execute(insert_pharmGKB, drug_row)\n",
    "        "
   ]
  },
  {
   "cell_type": "code",
   "execution_count": 7,
   "id": "dc51e438-1b36-4338-acd4-7c489675bb8b",
   "metadata": {
    "tags": []
   },
   "outputs": [],
   "source": [
    "#merge tables based on dbSNP_ID\n",
    "sql = '''\n",
    "SELECT variant, gene_sym, drug, PMID, phenotype_cat, significance, notes, sentence, allele_pharmGKB, allele_23andme\n",
    "FROM pharmGKB\n",
    "    INNER JOIN df_23andme on pharmGKB.variant = df_23andme.dbSNP_id\n",
    "'''\n",
    "\n",
    "cursor.execute(sql)\n",
    "df_merge = display_results(cursor)"
   ]
  },
  {
   "cell_type": "code",
   "execution_count": 8,
   "id": "1d3dfdae-8e1f-4c32-a813-b9e7f1ccdfc5",
   "metadata": {
    "tags": []
   },
   "outputs": [
    {
     "data": {
      "text/html": [
       "<div>\n",
       "<style scoped>\n",
       "    .dataframe tbody tr th:only-of-type {\n",
       "        vertical-align: middle;\n",
       "    }\n",
       "\n",
       "    .dataframe tbody tr th {\n",
       "        vertical-align: top;\n",
       "    }\n",
       "\n",
       "    .dataframe thead th {\n",
       "        text-align: right;\n",
       "    }\n",
       "</style>\n",
       "<table border=\"1\" class=\"dataframe\">\n",
       "  <thead>\n",
       "    <tr style=\"text-align: right;\">\n",
       "      <th></th>\n",
       "      <th>variant</th>\n",
       "      <th>gene_sym</th>\n",
       "      <th>drug</th>\n",
       "      <th>notes</th>\n",
       "      <th>sentence</th>\n",
       "      <th>allele_pharmGKB</th>\n",
       "      <th>allele_23andme</th>\n",
       "    </tr>\n",
       "  </thead>\n",
       "  <tbody>\n",
       "    <tr>\n",
       "      <th>8</th>\n",
       "      <td>rs1801131</td>\n",
       "      <td>MTHFR</td>\n",
       "      <td>oxaliplatin</td>\n",
       "      <td>Statistics given as trend for increased overal...</td>\n",
       "      <td>Genotypes GG + GT are associated with increase...</td>\n",
       "      <td>GG + GT</td>\n",
       "      <td>T</td>\n",
       "    </tr>\n",
       "    <tr>\n",
       "      <th>9</th>\n",
       "      <td>rs1801131</td>\n",
       "      <td>MTHFR</td>\n",
       "      <td>Vitamin B-complex, Incl. Combinations</td>\n",
       "      <td>Please note that allele has been complemented ...</td>\n",
       "      <td>Allele G is associated with increased response...</td>\n",
       "      <td>G</td>\n",
       "      <td>T</td>\n",
       "    </tr>\n",
       "    <tr>\n",
       "      <th>11</th>\n",
       "      <td>rs1801131</td>\n",
       "      <td>MTHFR</td>\n",
       "      <td>methotrexate</td>\n",
       "      <td>Alleles given as C and A. Efficacy of treatmen...</td>\n",
       "      <td>Genotype GT is associated with decreased respo...</td>\n",
       "      <td>GT</td>\n",
       "      <td>T</td>\n",
       "    </tr>\n",
       "    <tr>\n",
       "      <th>14</th>\n",
       "      <td>rs1801131</td>\n",
       "      <td>MTHFR</td>\n",
       "      <td>methotrexate</td>\n",
       "      <td>Patients with the GG genotype had better overa...</td>\n",
       "      <td>Genotype GG is associated with increased respo...</td>\n",
       "      <td>GG</td>\n",
       "      <td>T</td>\n",
       "    </tr>\n",
       "    <tr>\n",
       "      <th>15</th>\n",
       "      <td>rs1801131</td>\n",
       "      <td>MTHFR</td>\n",
       "      <td>methotrexate</td>\n",
       "      <td>Patients with the TT genotype had significantl...</td>\n",
       "      <td>Genotype TT is associated with decreased respo...</td>\n",
       "      <td>TT</td>\n",
       "      <td>T</td>\n",
       "    </tr>\n",
       "    <tr>\n",
       "      <th>30</th>\n",
       "      <td>rs1801131</td>\n",
       "      <td>MTHFR</td>\n",
       "      <td>methotrexate</td>\n",
       "      <td></td>\n",
       "      <td>Genotype GG is associated with decreased respo...</td>\n",
       "      <td>GG</td>\n",
       "      <td>T</td>\n",
       "    </tr>\n",
       "    <tr>\n",
       "      <th>31</th>\n",
       "      <td>rs1801131</td>\n",
       "      <td>MTHFR</td>\n",
       "      <td>methotrexate</td>\n",
       "      <td></td>\n",
       "      <td>Genotypes GT + TT is associated with increased...</td>\n",
       "      <td>GT + TT</td>\n",
       "      <td>T</td>\n",
       "    </tr>\n",
       "    <tr>\n",
       "      <th>34</th>\n",
       "      <td>rs1801131</td>\n",
       "      <td>C1orf167, CLCN6, MTHFR</td>\n",
       "      <td>methotrexate</td>\n",
       "      <td>Non-response was classified by DAS28 &gt;3.2 at t...</td>\n",
       "      <td>Genotype TT is associated with decreased respo...</td>\n",
       "      <td>TT</td>\n",
       "      <td>T</td>\n",
       "    </tr>\n",
       "    <tr>\n",
       "      <th>36</th>\n",
       "      <td>rs1801131</td>\n",
       "      <td>MTHFR</td>\n",
       "      <td>fluorouracil, leucovorin, oxaliplatin</td>\n",
       "      <td></td>\n",
       "      <td>Allele G is associated with increased response...</td>\n",
       "      <td>G</td>\n",
       "      <td>T</td>\n",
       "    </tr>\n",
       "    <tr>\n",
       "      <th>40</th>\n",
       "      <td>rs1801131</td>\n",
       "      <td>MTHFR</td>\n",
       "      <td>benazepril</td>\n",
       "      <td>When in a haplotype with rs1801133 allele G, a...</td>\n",
       "      <td>Allele G is associated with decreased response...</td>\n",
       "      <td>G</td>\n",
       "      <td>T</td>\n",
       "    </tr>\n",
       "  </tbody>\n",
       "</table>\n",
       "</div>"
      ],
      "text/plain": [
       "      variant                gene_sym                                   drug  \\\n",
       "8   rs1801131                   MTHFR                            oxaliplatin   \n",
       "9   rs1801131                   MTHFR  Vitamin B-complex, Incl. Combinations   \n",
       "11  rs1801131                   MTHFR                           methotrexate   \n",
       "14  rs1801131                   MTHFR                           methotrexate   \n",
       "15  rs1801131                   MTHFR                           methotrexate   \n",
       "30  rs1801131                   MTHFR                           methotrexate   \n",
       "31  rs1801131                   MTHFR                           methotrexate   \n",
       "34  rs1801131  C1orf167, CLCN6, MTHFR                           methotrexate   \n",
       "36  rs1801131                   MTHFR  fluorouracil, leucovorin, oxaliplatin   \n",
       "40  rs1801131                   MTHFR                             benazepril   \n",
       "\n",
       "                                                notes  \\\n",
       "8   Statistics given as trend for increased overal...   \n",
       "9   Please note that allele has been complemented ...   \n",
       "11  Alleles given as C and A. Efficacy of treatmen...   \n",
       "14  Patients with the GG genotype had better overa...   \n",
       "15  Patients with the TT genotype had significantl...   \n",
       "30                                                      \n",
       "31                                                      \n",
       "34  Non-response was classified by DAS28 >3.2 at t...   \n",
       "36                                                      \n",
       "40  When in a haplotype with rs1801133 allele G, a...   \n",
       "\n",
       "                                             sentence allele_pharmGKB  \\\n",
       "8   Genotypes GG + GT are associated with increase...         GG + GT   \n",
       "9   Allele G is associated with increased response...               G   \n",
       "11  Genotype GT is associated with decreased respo...              GT   \n",
       "14  Genotype GG is associated with increased respo...              GG   \n",
       "15  Genotype TT is associated with decreased respo...              TT   \n",
       "30  Genotype GG is associated with decreased respo...              GG   \n",
       "31  Genotypes GT + TT is associated with increased...         GT + TT   \n",
       "34  Genotype TT is associated with decreased respo...              TT   \n",
       "36  Allele G is associated with increased response...               G   \n",
       "40  Allele G is associated with decreased response...               G   \n",
       "\n",
       "   allele_23andme  \n",
       "8               T  \n",
       "9               T  \n",
       "11              T  \n",
       "14              T  \n",
       "15              T  \n",
       "30              T  \n",
       "31              T  \n",
       "34              T  \n",
       "36              T  \n",
       "40              T  "
      ]
     },
     "execution_count": 8,
     "metadata": {},
     "output_type": "execute_result"
    }
   ],
   "source": [
    "#filter the table for significant associations affecting efficiacy\n",
    "#df_merge is the merged dataframe of the two files\n",
    "df_filtered = df_merge[(df_merge.significance == 'yes') & (df_merge.phenotype_cat == 'Efficacy')]\n",
    "df_filtered = df_filtered.drop(columns = ['phenotype_cat', 'significance', 'PMID'])\n",
    "df_filtered.head(10)"
   ]
  },
  {
   "cell_type": "code",
   "execution_count": 12,
   "id": "8fdb36fe-cfea-4fef-8908-a490582ed62a",
   "metadata": {
    "tags": []
   },
   "outputs": [],
   "source": [
    "#save the data\n",
    "#df_filtered is the file to save\n",
    "df_filtered.to_csv('23andme_PharmGKB_map.tsv', sep = '\\t', header = True, index = False)"
   ]
  },
  {
   "cell_type": "markdown",
   "id": "860d1a95-4b50-4ed4-a886-653c8622337a",
   "metadata": {
    "tags": []
   },
   "source": [
    "__________\n",
    "## <u> Discussion Questions <u>"
   ]
  },
  {
   "cell_type": "markdown",
   "id": "c5782045-2649-4386-93f9-7d60363fff6d",
   "metadata": {
    "tags": []
   },
   "source": [
    "__________\n",
    "## <u> Discussion Questions <u>"
   ]
  },
  {
   "cell_type": "markdown",
   "id": "cd6015d8-02b4-4d62-b271-50405f9548b8",
   "metadata": {},
   "source": [
    "### Question 1: What was your biggest challenge in this project?\n",
    "The biggest challenge with this project's code itself was \n",
    "### Question 2: What did you learn while working on this project?\n",
    "This project helped reinforce my understanding and practice of data management through SQL and Pandas. It also helped me practice my coding abilities in Python. Additionally, the data itself was really interesting, and I didn't fully appreaciate the impact that genetic variation plays on drug efficacy. \n",
    "### Question 3: If you had more time on the project what other question(s) would you like to answer?\n"
   ]
  },
  {
   "cell_type": "markdown",
   "id": "e0162327-e78e-4291-8043-80ff94bee4ff",
   "metadata": {},
   "source": []
  }
 ],
 "metadata": {
  "kernelspec": {
   "display_name": "Python 3 (ipykernel)",
   "language": "python",
   "name": "python3"
  },
  "language_info": {
   "codemirror_mode": {
    "name": "ipython",
    "version": 3
   },
   "file_extension": ".py",
   "mimetype": "text/x-python",
   "name": "python",
   "nbconvert_exporter": "python",
   "pygments_lexer": "ipython3",
   "version": "3.11.4"
  }
 },
 "nbformat": 4,
 "nbformat_minor": 5
}
